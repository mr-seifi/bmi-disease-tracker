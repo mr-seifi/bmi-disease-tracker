{
 "cells": [
  {
   "cell_type": "code",
   "execution_count": 124,
   "outputs": [],
   "source": [
    "import pandas as pd\n",
    "import pickle\n",
    "from sklearn.model_selection import train_test_split\n",
    "from sklearn.neural_network import MLPClassifier"
   ],
   "metadata": {
    "collapsed": false,
    "pycharm": {
     "name": "#%%\n"
    }
   }
  },
  {
   "cell_type": "markdown",
   "source": [
    "# Read dataset"
   ],
   "metadata": {
    "collapsed": false,
    "pycharm": {
     "name": "#%% md\n"
    }
   }
  },
  {
   "cell_type": "code",
   "execution_count": 131,
   "outputs": [],
   "source": [
    "df = pd.read_csv('../media/training-set.csv')"
   ],
   "metadata": {
    "collapsed": false,
    "pycharm": {
     "name": "#%%\n"
    }
   }
  },
  {
   "cell_type": "code",
   "execution_count": 132,
   "outputs": [
    {
     "data": {
      "text/plain": "     Gender  AGE  Urea  Cr  HbA1c  Chol   TG  HDL  LDL  VLDL   BMI CLASS\n0         0   50   4.7  46    4.9   4.2  0.9  2.4  1.4   0.5  24.0     N\n1         1   26   4.5  62    4.9   3.7  1.4  1.1  2.1   0.6  23.0     N\n2         0   50   4.7  46    4.9   4.2  0.9  2.4  1.4   0.5  24.0     N\n3         0   50   4.7  46    4.9   4.2  0.9  2.4  1.4   0.5  24.0     N\n4         1   33   7.1  46    4.9   4.9  1.0  0.8  2.0   0.4  21.0     N\n..      ...  ...   ...  ..    ...   ...  ...  ...  ...   ...   ...   ...\n995       1   71  11.0  97    7.0   7.5  1.7  1.2  1.8   0.6  30.0     Y\n996       1   31   3.0  60   12.3   4.1  2.2  0.7  2.4  15.4  37.2    Y \n997       1   30   7.1  81    6.7   4.1  1.1  1.2  2.4   8.1  27.4    Y \n998       1   38   5.8  59    6.7   5.3  2.0  1.6  2.9  14.0  40.5    Y \n999       1   54   5.0  67    6.9   3.8  1.7  1.1  3.0   0.7  33.0    Y \n\n[1000 rows x 12 columns]",
      "text/html": "<div>\n<style scoped>\n    .dataframe tbody tr th:only-of-type {\n        vertical-align: middle;\n    }\n\n    .dataframe tbody tr th {\n        vertical-align: top;\n    }\n\n    .dataframe thead th {\n        text-align: right;\n    }\n</style>\n<table border=\"1\" class=\"dataframe\">\n  <thead>\n    <tr style=\"text-align: right;\">\n      <th></th>\n      <th>Gender</th>\n      <th>AGE</th>\n      <th>Urea</th>\n      <th>Cr</th>\n      <th>HbA1c</th>\n      <th>Chol</th>\n      <th>TG</th>\n      <th>HDL</th>\n      <th>LDL</th>\n      <th>VLDL</th>\n      <th>BMI</th>\n      <th>CLASS</th>\n    </tr>\n  </thead>\n  <tbody>\n    <tr>\n      <th>0</th>\n      <td>0</td>\n      <td>50</td>\n      <td>4.7</td>\n      <td>46</td>\n      <td>4.9</td>\n      <td>4.2</td>\n      <td>0.9</td>\n      <td>2.4</td>\n      <td>1.4</td>\n      <td>0.5</td>\n      <td>24.0</td>\n      <td>N</td>\n    </tr>\n    <tr>\n      <th>1</th>\n      <td>1</td>\n      <td>26</td>\n      <td>4.5</td>\n      <td>62</td>\n      <td>4.9</td>\n      <td>3.7</td>\n      <td>1.4</td>\n      <td>1.1</td>\n      <td>2.1</td>\n      <td>0.6</td>\n      <td>23.0</td>\n      <td>N</td>\n    </tr>\n    <tr>\n      <th>2</th>\n      <td>0</td>\n      <td>50</td>\n      <td>4.7</td>\n      <td>46</td>\n      <td>4.9</td>\n      <td>4.2</td>\n      <td>0.9</td>\n      <td>2.4</td>\n      <td>1.4</td>\n      <td>0.5</td>\n      <td>24.0</td>\n      <td>N</td>\n    </tr>\n    <tr>\n      <th>3</th>\n      <td>0</td>\n      <td>50</td>\n      <td>4.7</td>\n      <td>46</td>\n      <td>4.9</td>\n      <td>4.2</td>\n      <td>0.9</td>\n      <td>2.4</td>\n      <td>1.4</td>\n      <td>0.5</td>\n      <td>24.0</td>\n      <td>N</td>\n    </tr>\n    <tr>\n      <th>4</th>\n      <td>1</td>\n      <td>33</td>\n      <td>7.1</td>\n      <td>46</td>\n      <td>4.9</td>\n      <td>4.9</td>\n      <td>1.0</td>\n      <td>0.8</td>\n      <td>2.0</td>\n      <td>0.4</td>\n      <td>21.0</td>\n      <td>N</td>\n    </tr>\n    <tr>\n      <th>...</th>\n      <td>...</td>\n      <td>...</td>\n      <td>...</td>\n      <td>...</td>\n      <td>...</td>\n      <td>...</td>\n      <td>...</td>\n      <td>...</td>\n      <td>...</td>\n      <td>...</td>\n      <td>...</td>\n      <td>...</td>\n    </tr>\n    <tr>\n      <th>995</th>\n      <td>1</td>\n      <td>71</td>\n      <td>11.0</td>\n      <td>97</td>\n      <td>7.0</td>\n      <td>7.5</td>\n      <td>1.7</td>\n      <td>1.2</td>\n      <td>1.8</td>\n      <td>0.6</td>\n      <td>30.0</td>\n      <td>Y</td>\n    </tr>\n    <tr>\n      <th>996</th>\n      <td>1</td>\n      <td>31</td>\n      <td>3.0</td>\n      <td>60</td>\n      <td>12.3</td>\n      <td>4.1</td>\n      <td>2.2</td>\n      <td>0.7</td>\n      <td>2.4</td>\n      <td>15.4</td>\n      <td>37.2</td>\n      <td>Y</td>\n    </tr>\n    <tr>\n      <th>997</th>\n      <td>1</td>\n      <td>30</td>\n      <td>7.1</td>\n      <td>81</td>\n      <td>6.7</td>\n      <td>4.1</td>\n      <td>1.1</td>\n      <td>1.2</td>\n      <td>2.4</td>\n      <td>8.1</td>\n      <td>27.4</td>\n      <td>Y</td>\n    </tr>\n    <tr>\n      <th>998</th>\n      <td>1</td>\n      <td>38</td>\n      <td>5.8</td>\n      <td>59</td>\n      <td>6.7</td>\n      <td>5.3</td>\n      <td>2.0</td>\n      <td>1.6</td>\n      <td>2.9</td>\n      <td>14.0</td>\n      <td>40.5</td>\n      <td>Y</td>\n    </tr>\n    <tr>\n      <th>999</th>\n      <td>1</td>\n      <td>54</td>\n      <td>5.0</td>\n      <td>67</td>\n      <td>6.9</td>\n      <td>3.8</td>\n      <td>1.7</td>\n      <td>1.1</td>\n      <td>3.0</td>\n      <td>0.7</td>\n      <td>33.0</td>\n      <td>Y</td>\n    </tr>\n  </tbody>\n</table>\n<p>1000 rows × 12 columns</p>\n</div>"
     },
     "execution_count": 132,
     "metadata": {},
     "output_type": "execute_result"
    }
   ],
   "source": [
    "df = df.drop(columns=['ID', 'No_Pation', ])\n",
    "df"
   ],
   "metadata": {
    "collapsed": false,
    "pycharm": {
     "name": "#%%\n"
    }
   }
  },
  {
   "cell_type": "code",
   "execution_count": 133,
   "outputs": [],
   "source": [
    "Y_col = 'CLASS'\n",
    "X_cols = df.loc[:, df.columns != Y_col].columns"
   ],
   "metadata": {
    "collapsed": false,
    "pycharm": {
     "name": "#%%\n"
    }
   }
  },
  {
   "cell_type": "markdown",
   "source": [
    "# Split dataset into training set and test set"
   ],
   "metadata": {
    "collapsed": false,
    "pycharm": {
     "name": "#%% md\n"
    }
   }
  },
  {
   "cell_type": "code",
   "execution_count": 189,
   "outputs": [],
   "source": [
    "X_train, X_test, y_train, y_test = train_test_split(df[X_cols], df[Y_col], test_size=0.2, random_state=1)"
   ],
   "metadata": {
    "collapsed": false,
    "pycharm": {
     "name": "#%%\n"
    }
   }
  },
  {
   "cell_type": "code",
   "execution_count": 190,
   "outputs": [
    {
     "data": {
      "text/plain": "     Gender  AGE  Urea   Cr  HbA1c  Chol   TG  HDL  LDL  VLDL   BMI\n382       1   77   6.2   99    7.2   3.2  1.1  0.8  2.0   0.5  29.0\n994       1   69  10.3  185    7.7   4.9  1.9  1.2  3.0   0.7  37.0\n982       0   54   5.0   88    6.8   5.1  2.1  1.1  3.0   1.0  30.0\n47        1   49   3.8   60    5.0   4.7  1.8  0.7  3.3   0.8  24.0\n521       0   54  11.3  130    7.7   6.3  5.4  0.8  3.3   2.4  33.0\n..      ...  ...   ...  ...    ...   ...  ...  ...  ...   ...   ...\n767       1   63   3.5   54   10.1   5.9  3.1  1.1  2.6   1.4  28.0\n72        0   41   2.0   39    4.0   3.4  1.2  1.7  1.1   0.5  21.0\n908       0   55   3.7   41   10.8   5.4  2.2  1.2  3.3   1.0  35.0\n235       0   54   4.3   52    6.7   3.1  1.1  3.1  1.2   0.7  37.0\n37        1   46   2.0   54    5.4   3.7  1.3  0.8  2.4   0.6  21.0\n\n[800 rows x 11 columns]",
      "text/html": "<div>\n<style scoped>\n    .dataframe tbody tr th:only-of-type {\n        vertical-align: middle;\n    }\n\n    .dataframe tbody tr th {\n        vertical-align: top;\n    }\n\n    .dataframe thead th {\n        text-align: right;\n    }\n</style>\n<table border=\"1\" class=\"dataframe\">\n  <thead>\n    <tr style=\"text-align: right;\">\n      <th></th>\n      <th>Gender</th>\n      <th>AGE</th>\n      <th>Urea</th>\n      <th>Cr</th>\n      <th>HbA1c</th>\n      <th>Chol</th>\n      <th>TG</th>\n      <th>HDL</th>\n      <th>LDL</th>\n      <th>VLDL</th>\n      <th>BMI</th>\n    </tr>\n  </thead>\n  <tbody>\n    <tr>\n      <th>382</th>\n      <td>1</td>\n      <td>77</td>\n      <td>6.2</td>\n      <td>99</td>\n      <td>7.2</td>\n      <td>3.2</td>\n      <td>1.1</td>\n      <td>0.8</td>\n      <td>2.0</td>\n      <td>0.5</td>\n      <td>29.0</td>\n    </tr>\n    <tr>\n      <th>994</th>\n      <td>1</td>\n      <td>69</td>\n      <td>10.3</td>\n      <td>185</td>\n      <td>7.7</td>\n      <td>4.9</td>\n      <td>1.9</td>\n      <td>1.2</td>\n      <td>3.0</td>\n      <td>0.7</td>\n      <td>37.0</td>\n    </tr>\n    <tr>\n      <th>982</th>\n      <td>0</td>\n      <td>54</td>\n      <td>5.0</td>\n      <td>88</td>\n      <td>6.8</td>\n      <td>5.1</td>\n      <td>2.1</td>\n      <td>1.1</td>\n      <td>3.0</td>\n      <td>1.0</td>\n      <td>30.0</td>\n    </tr>\n    <tr>\n      <th>47</th>\n      <td>1</td>\n      <td>49</td>\n      <td>3.8</td>\n      <td>60</td>\n      <td>5.0</td>\n      <td>4.7</td>\n      <td>1.8</td>\n      <td>0.7</td>\n      <td>3.3</td>\n      <td>0.8</td>\n      <td>24.0</td>\n    </tr>\n    <tr>\n      <th>521</th>\n      <td>0</td>\n      <td>54</td>\n      <td>11.3</td>\n      <td>130</td>\n      <td>7.7</td>\n      <td>6.3</td>\n      <td>5.4</td>\n      <td>0.8</td>\n      <td>3.3</td>\n      <td>2.4</td>\n      <td>33.0</td>\n    </tr>\n    <tr>\n      <th>...</th>\n      <td>...</td>\n      <td>...</td>\n      <td>...</td>\n      <td>...</td>\n      <td>...</td>\n      <td>...</td>\n      <td>...</td>\n      <td>...</td>\n      <td>...</td>\n      <td>...</td>\n      <td>...</td>\n    </tr>\n    <tr>\n      <th>767</th>\n      <td>1</td>\n      <td>63</td>\n      <td>3.5</td>\n      <td>54</td>\n      <td>10.1</td>\n      <td>5.9</td>\n      <td>3.1</td>\n      <td>1.1</td>\n      <td>2.6</td>\n      <td>1.4</td>\n      <td>28.0</td>\n    </tr>\n    <tr>\n      <th>72</th>\n      <td>0</td>\n      <td>41</td>\n      <td>2.0</td>\n      <td>39</td>\n      <td>4.0</td>\n      <td>3.4</td>\n      <td>1.2</td>\n      <td>1.7</td>\n      <td>1.1</td>\n      <td>0.5</td>\n      <td>21.0</td>\n    </tr>\n    <tr>\n      <th>908</th>\n      <td>0</td>\n      <td>55</td>\n      <td>3.7</td>\n      <td>41</td>\n      <td>10.8</td>\n      <td>5.4</td>\n      <td>2.2</td>\n      <td>1.2</td>\n      <td>3.3</td>\n      <td>1.0</td>\n      <td>35.0</td>\n    </tr>\n    <tr>\n      <th>235</th>\n      <td>0</td>\n      <td>54</td>\n      <td>4.3</td>\n      <td>52</td>\n      <td>6.7</td>\n      <td>3.1</td>\n      <td>1.1</td>\n      <td>3.1</td>\n      <td>1.2</td>\n      <td>0.7</td>\n      <td>37.0</td>\n    </tr>\n    <tr>\n      <th>37</th>\n      <td>1</td>\n      <td>46</td>\n      <td>2.0</td>\n      <td>54</td>\n      <td>5.4</td>\n      <td>3.7</td>\n      <td>1.3</td>\n      <td>0.8</td>\n      <td>2.4</td>\n      <td>0.6</td>\n      <td>21.0</td>\n    </tr>\n  </tbody>\n</table>\n<p>800 rows × 11 columns</p>\n</div>"
     },
     "execution_count": 190,
     "metadata": {},
     "output_type": "execute_result"
    }
   ],
   "source": [
    "X_train"
   ],
   "metadata": {
    "collapsed": false,
    "pycharm": {
     "name": "#%%\n"
    }
   }
  },
  {
   "cell_type": "markdown",
   "source": [
    "# Define a neural network and train data"
   ],
   "metadata": {
    "collapsed": false,
    "pycharm": {
     "name": "#%% md\n"
    }
   }
  },
  {
   "cell_type": "code",
   "execution_count": 197,
   "outputs": [
    {
     "name": "stderr",
     "output_type": "stream",
     "text": [
      "/home/amin/Documents/ProgrammingProjects/DjangoProjects/bmi_disease_tracker/venv/lib/python3.8/site-packages/sklearn/neural_network/_multilayer_perceptron.py:559: ConvergenceWarning: lbfgs failed to converge (status=1):\n",
      "STOP: TOTAL NO. of ITERATIONS REACHED LIMIT.\n",
      "\n",
      "Increase the number of iterations (max_iter) or scale the data as shown in:\n",
      "    https://scikit-learn.org/stable/modules/preprocessing.html\n",
      "  self.n_iter_ = _check_optimize_result(\"lbfgs\", opt_res, self.max_iter)\n"
     ]
    },
    {
     "data": {
      "text/plain": "MLPClassifier(alpha=1e-05, hidden_layer_sizes=(16, 8), random_state=1,\n              solver='lbfgs')",
      "text/html": "<style>#sk-container-id-55 {color: black;background-color: white;}#sk-container-id-55 pre{padding: 0;}#sk-container-id-55 div.sk-toggleable {background-color: white;}#sk-container-id-55 label.sk-toggleable__label {cursor: pointer;display: block;width: 100%;margin-bottom: 0;padding: 0.3em;box-sizing: border-box;text-align: center;}#sk-container-id-55 label.sk-toggleable__label-arrow:before {content: \"▸\";float: left;margin-right: 0.25em;color: #696969;}#sk-container-id-55 label.sk-toggleable__label-arrow:hover:before {color: black;}#sk-container-id-55 div.sk-estimator:hover label.sk-toggleable__label-arrow:before {color: black;}#sk-container-id-55 div.sk-toggleable__content {max-height: 0;max-width: 0;overflow: hidden;text-align: left;background-color: #f0f8ff;}#sk-container-id-55 div.sk-toggleable__content pre {margin: 0.2em;color: black;border-radius: 0.25em;background-color: #f0f8ff;}#sk-container-id-55 input.sk-toggleable__control:checked~div.sk-toggleable__content {max-height: 200px;max-width: 100%;overflow: auto;}#sk-container-id-55 input.sk-toggleable__control:checked~label.sk-toggleable__label-arrow:before {content: \"▾\";}#sk-container-id-55 div.sk-estimator input.sk-toggleable__control:checked~label.sk-toggleable__label {background-color: #d4ebff;}#sk-container-id-55 div.sk-label input.sk-toggleable__control:checked~label.sk-toggleable__label {background-color: #d4ebff;}#sk-container-id-55 input.sk-hidden--visually {border: 0;clip: rect(1px 1px 1px 1px);clip: rect(1px, 1px, 1px, 1px);height: 1px;margin: -1px;overflow: hidden;padding: 0;position: absolute;width: 1px;}#sk-container-id-55 div.sk-estimator {font-family: monospace;background-color: #f0f8ff;border: 1px dotted black;border-radius: 0.25em;box-sizing: border-box;margin-bottom: 0.5em;}#sk-container-id-55 div.sk-estimator:hover {background-color: #d4ebff;}#sk-container-id-55 div.sk-parallel-item::after {content: \"\";width: 100%;border-bottom: 1px solid gray;flex-grow: 1;}#sk-container-id-55 div.sk-label:hover label.sk-toggleable__label {background-color: #d4ebff;}#sk-container-id-55 div.sk-serial::before {content: \"\";position: absolute;border-left: 1px solid gray;box-sizing: border-box;top: 0;bottom: 0;left: 50%;z-index: 0;}#sk-container-id-55 div.sk-serial {display: flex;flex-direction: column;align-items: center;background-color: white;padding-right: 0.2em;padding-left: 0.2em;position: relative;}#sk-container-id-55 div.sk-item {position: relative;z-index: 1;}#sk-container-id-55 div.sk-parallel {display: flex;align-items: stretch;justify-content: center;background-color: white;position: relative;}#sk-container-id-55 div.sk-item::before, #sk-container-id-55 div.sk-parallel-item::before {content: \"\";position: absolute;border-left: 1px solid gray;box-sizing: border-box;top: 0;bottom: 0;left: 50%;z-index: -1;}#sk-container-id-55 div.sk-parallel-item {display: flex;flex-direction: column;z-index: 1;position: relative;background-color: white;}#sk-container-id-55 div.sk-parallel-item:first-child::after {align-self: flex-end;width: 50%;}#sk-container-id-55 div.sk-parallel-item:last-child::after {align-self: flex-start;width: 50%;}#sk-container-id-55 div.sk-parallel-item:only-child::after {width: 0;}#sk-container-id-55 div.sk-dashed-wrapped {border: 1px dashed gray;margin: 0 0.4em 0.5em 0.4em;box-sizing: border-box;padding-bottom: 0.4em;background-color: white;}#sk-container-id-55 div.sk-label label {font-family: monospace;font-weight: bold;display: inline-block;line-height: 1.2em;}#sk-container-id-55 div.sk-label-container {text-align: center;}#sk-container-id-55 div.sk-container {/* jupyter's `normalize.less` sets `[hidden] { display: none; }` but bootstrap.min.css set `[hidden] { display: none !important; }` so we also need the `!important` here to be able to override the default hidden behavior on the sphinx rendered scikit-learn.org. See: https://github.com/scikit-learn/scikit-learn/issues/21755 */display: inline-block !important;position: relative;}#sk-container-id-55 div.sk-text-repr-fallback {display: none;}</style><div id=\"sk-container-id-55\" class=\"sk-top-container\"><div class=\"sk-text-repr-fallback\"><pre>MLPClassifier(alpha=1e-05, hidden_layer_sizes=(16, 8), random_state=1,\n              solver=&#x27;lbfgs&#x27;)</pre><b>In a Jupyter environment, please rerun this cell to show the HTML representation or trust the notebook. <br />On GitHub, the HTML representation is unable to render, please try loading this page with nbviewer.org.</b></div><div class=\"sk-container\" hidden><div class=\"sk-item\"><div class=\"sk-estimator sk-toggleable\"><input class=\"sk-toggleable__control sk-hidden--visually\" id=\"sk-estimator-id-55\" type=\"checkbox\" checked><label for=\"sk-estimator-id-55\" class=\"sk-toggleable__label sk-toggleable__label-arrow\">MLPClassifier</label><div class=\"sk-toggleable__content\"><pre>MLPClassifier(alpha=1e-05, hidden_layer_sizes=(16, 8), random_state=1,\n              solver=&#x27;lbfgs&#x27;)</pre></div></div></div></div></div>"
     },
     "execution_count": 197,
     "metadata": {},
     "output_type": "execute_result"
    }
   ],
   "source": [
    "cls = MLPClassifier(solver='lbfgs', alpha=1e-5, hidden_layer_sizes=(16, 8), random_state=1)\n",
    "\n",
    "cls.fit(X_train, y_train)"
   ],
   "metadata": {
    "collapsed": false,
    "pycharm": {
     "name": "#%%\n"
    }
   }
  },
  {
   "cell_type": "markdown",
   "source": [
    "# Measure accuracy from predictions to our test data"
   ],
   "metadata": {
    "collapsed": false,
    "pycharm": {
     "name": "#%% md\n"
    }
   }
  },
  {
   "cell_type": "code",
   "execution_count": 198,
   "outputs": [],
   "source": [
    "accuracy = cls.predict(X_test) == y_test"
   ],
   "metadata": {
    "collapsed": false,
    "pycharm": {
     "name": "#%%\n"
    }
   }
  },
  {
   "cell_type": "code",
   "execution_count": 199,
   "outputs": [
    {
     "name": "stdout",
     "output_type": "stream",
     "text": [
      "91.0 %\n"
     ]
    }
   ],
   "source": [
    "accuracy_percent = 100 * accuracy[accuracy == True].shape[0] / y_test.shape[0]\n",
    "print(accuracy_percent, '%')"
   ],
   "metadata": {
    "collapsed": false,
    "pycharm": {
     "name": "#%%\n"
    }
   }
  },
  {
   "cell_type": "markdown",
   "source": [
    "# Export our model"
   ],
   "metadata": {
    "collapsed": false,
    "pycharm": {
     "name": "#%% md\n"
    }
   }
  },
  {
   "cell_type": "code",
   "execution_count": 200,
   "outputs": [],
   "source": [
    "pickle.dump(cls, open('nn-sgd.model', 'wb'))"
   ],
   "metadata": {
    "collapsed": false,
    "pycharm": {
     "name": "#%%\n"
    }
   }
  }
 ],
 "metadata": {
  "kernelspec": {
   "display_name": "Python 3",
   "language": "python",
   "name": "python3"
  },
  "language_info": {
   "codemirror_mode": {
    "name": "ipython",
    "version": 2
   },
   "file_extension": ".py",
   "mimetype": "text/x-python",
   "name": "python",
   "nbconvert_exporter": "python",
   "pygments_lexer": "ipython2",
   "version": "2.7.6"
  }
 },
 "nbformat": 4,
 "nbformat_minor": 0
}